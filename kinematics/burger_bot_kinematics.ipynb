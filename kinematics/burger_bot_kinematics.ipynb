{
 "cells": [
  {
   "cell_type": "markdown",
   "metadata": {},
   "source": [
    "## Differential Wheeled Robot Kinematics model"
   ]
  },
  {
   "cell_type": "code",
   "execution_count": 9,
   "metadata": {},
   "outputs": [
    {
     "name": "stdout",
     "output_type": "stream",
     "text": [
      "> local frame\n",
      "vx = 3.0\n",
      "vy = 0.0\n",
      "w  = 20.0\n",
      "> global frame\n",
      "vgx = 2.121320343559643\n",
      "vgy = 2.121320343559643\n",
      "wg  = 20.0\n"
     ]
    }
   ],
   "source": [
    "import numpy as np\n",
    "# constants\n",
    "r = 0.1  # wheel radius\n",
    "b = 0.2  # distance between wheels\n",
    "\n",
    "# Variables to Be changed to control the output\n",
    "wr = 50   # angular velocity of right wheel\n",
    "wl = 10   # angular velocity of left wheel\n",
    "# orientation \n",
    "theta = 45\n",
    "#------------------------------------------------\n",
    "\n",
    "vr = wr * r  # linear velocity of right wheel \n",
    "vl = wl * r  # linear velocity of left wheel \n",
    "\n",
    "# Local frame\n",
    "vx = (1/2) * (vr + vl)\n",
    "vy = (0  ) * (vr + vl)\n",
    "w  = (1/b) * (vr - vl)\n",
    "\n",
    "# global frame\n",
    "theta_rad = np.deg2rad(theta)  # convert theta to radians\n",
    "Vgx = vx * np.cos(theta_rad) - vy * np.sin(theta_rad)\n",
    "Vgy = vx * np.sin(theta_rad) + vy * np.cos(theta_rad)  \n",
    "wg  = w\n",
    "\n",
    "# handle small values\n",
    "if np.abs(Vgx) < 1e-5: Vgx = 0\n",
    "if np.abs(Vgy) < 1e-5: Vgy = 0\n",
    "if np.abs(wg)  < 1e-5: wg  = 0\n",
    "\n",
    "# Print the results\n",
    "print(\"> local frame\")\n",
    "print(f\"vx = {vx}\")\n",
    "print(f\"vy = {vy}\")\n",
    "print(f\"w  = {w}\")\n",
    "print(\"> global frame\")\n",
    "print(f\"vgx = {Vgx}\")\n",
    "print(f\"vgy = {Vgy}\")\n",
    "print(f\"wg  = {wg}\")"
   ]
  }
 ],
 "metadata": {
  "kernelspec": {
   "display_name": "Python 3",
   "language": "python",
   "name": "python3"
  },
  "language_info": {
   "codemirror_mode": {
    "name": "ipython",
    "version": 3
   },
   "file_extension": ".py",
   "mimetype": "text/x-python",
   "name": "python",
   "nbconvert_exporter": "python",
   "pygments_lexer": "ipython3",
   "version": "3.12.4"
  }
 },
 "nbformat": 4,
 "nbformat_minor": 2
}
