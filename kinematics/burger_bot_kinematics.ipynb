{
 "cells": [
  {
   "cell_type": "code",
   "execution_count": 3,
   "metadata": {},
   "outputs": [
    {
     "name": "stdout",
     "output_type": "stream",
     "text": [
      "> local frame\n",
      "vx = 1.0\n",
      "vy = 0.0\n",
      "w  = 0.0\n",
      "> global frame\n",
      "vgx = -1.0\n",
      "vgy = 0\n",
      "wg  = 0\n"
     ]
    }
   ],
   "source": [
    "import numpy as np\n",
    "# constants\n",
    "r = 0.1  # wheel radius\n",
    "b = 0.2  # distance between wheels\n",
    "\n",
    "wr = 10   # angular velocity of right wheel\n",
    "wl = 10   # angular velocity of left wheel\n",
    "\n",
    "vr = wr * r  # linear velocity of right wheel \n",
    "vl = wl * r  # linear velocity of left wheel \n",
    "\n",
    "# Local frame\n",
    "vx = (1/2) * (vr + vl)\n",
    "vy = (0  ) * (vr + vl)\n",
    "w  = (1/b) * (vr - vl)\n",
    "\n",
    "# orientation \n",
    "theta = 180\n",
    "\n",
    "# global frame\n",
    "theta_rad = np.deg2rad(theta)  # convert theta to radians\n",
    "vgx = vx * np.cos(theta_rad)   \n",
    "vgy = vx * np.sin(theta_rad)   \n",
    "wg  = w\n",
    "\n",
    "# handle small values\n",
    "if np.abs(vgx) < 1e-5: vgx = 0\n",
    "if np.abs(vgy) < 1e-5: vgy = 0\n",
    "if np.abs(wg)  < 1e-5: wg  = 0\n",
    "\n",
    "# Print the results\n",
    "print(\"> local frame\")\n",
    "print(f\"vx = {vx}\")\n",
    "print(f\"vy = {vy}\")\n",
    "print(f\"w  = {w}\")\n",
    "print(\"> global frame\")\n",
    "print(f\"vgx = {vgx}\")\n",
    "print(f\"vgy = {vgy}\")\n",
    "print(f\"wg  = {wg}\")"
   ]
  }
 ],
 "metadata": {
  "kernelspec": {
   "display_name": "Python 3",
   "language": "python",
   "name": "python3"
  },
  "language_info": {
   "codemirror_mode": {
    "name": "ipython",
    "version": 3
   },
   "file_extension": ".py",
   "mimetype": "text/x-python",
   "name": "python",
   "nbconvert_exporter": "python",
   "pygments_lexer": "ipython3",
   "version": "3.12.4"
  }
 },
 "nbformat": 4,
 "nbformat_minor": 2
}
