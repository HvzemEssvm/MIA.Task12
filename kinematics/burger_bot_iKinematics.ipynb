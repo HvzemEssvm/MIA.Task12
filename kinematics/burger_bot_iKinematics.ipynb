{
 "cells": [
  {
   "cell_type": "markdown",
   "metadata": {},
   "source": [
    "## Differential Wheeled Robot Inverse Kinematics model"
   ]
  },
  {
   "cell_type": "code",
   "execution_count": 3,
   "metadata": {},
   "outputs": [
    {
     "name": "stdout",
     "output_type": "stream",
     "text": [
      "> Wheels Angular Velocities\n",
      "Wright =  [50.]\n",
      "Wleft =  [10.]\n",
      "> global frame\n",
      "Vx =  2.121320343559643\n",
      "Vx =  2.121320343559643\n",
      "W =  20\n"
     ]
    }
   ],
   "source": [
    "import numpy as np\n",
    "\n",
    "# constants\n",
    "r = 0.1  # wheel radius\n",
    "b = 0.2  # distance between wheels\n",
    "\n",
    "# Variables to Be changed to control the output\n",
    "theta_initial=45\n",
    "Vx = 3\n",
    "Vy = 0\n",
    "W = 20\n",
    "#---------------------------------------------\n",
    "\n",
    "# Model code:\n",
    "coeff_matrix = np.array([[0.5,0.5],[0,0],[1/b,-1/b]])\n",
    "coeff_inv = np.linalg.pinv(coeff_matrix)\n",
    "\n",
    "vMat = coeff_inv @ np.array([[Vx],[Vy],[W]])\n",
    "wMat = vMat / r\n",
    "\n",
    "\n",
    "\n",
    "theta_rad = np.deg2rad(theta_initial)\n",
    "Vgx = Vx * np.cos(theta_rad) - Vy * np.sin(theta_rad)\n",
    "Vgy = Vx * np.sin(theta_rad) + Vy * np.cos(theta_rad)\n",
    "\n",
    "# handle small values\n",
    "if np.abs(Vgx) < 1e-5: vgx = 0\n",
    "if np.abs(Vgy) < 1e-5: vgy = 0\n",
    "if np.abs(W)  < 1e-5: W  = 0\n",
    "\n",
    "print(\"> Wheels Angular Velocities\")\n",
    "print( \"Wright = \", wMat[0])\n",
    "print( \"Wleft = \", wMat[1])\n",
    "print(\"> global frame\")\n",
    "print (\"Vx = \", Vgx )\n",
    "print (\"Vx = \", Vgy )\n",
    "print (\"W = \", W )"
   ]
  }
 ],
 "metadata": {
  "kernelspec": {
   "display_name": "Python 3",
   "language": "python",
   "name": "python3"
  },
  "language_info": {
   "codemirror_mode": {
    "name": "ipython",
    "version": 3
   },
   "file_extension": ".py",
   "mimetype": "text/x-python",
   "name": "python",
   "nbconvert_exporter": "python",
   "pygments_lexer": "ipython3",
   "version": "3.12.4"
  }
 },
 "nbformat": 4,
 "nbformat_minor": 2
}
