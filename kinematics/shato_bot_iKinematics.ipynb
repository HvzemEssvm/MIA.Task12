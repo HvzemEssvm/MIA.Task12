{
 "cells": [
  {
   "cell_type": "markdown",
   "metadata": {},
   "source": [
    "## Inverse Kinematics model for Shato bot\n",
    "### this model is based on that research [link](https://research.ijcaonline.org/volume113/number3/pxc3901586.pdf)\n",
    "This photo describes the wheels where theta initial = 90 degree\n",
    " \n",
    "![Kinematics_Demo](wheel-rotations.webp)\n"
   ]
  },
  {
   "cell_type": "code",
   "execution_count": 58,
   "metadata": {},
   "outputs": [
    {
     "name": "stdout",
     "output_type": "stream",
     "text": [
      "> Wheels Angular Velocities\n",
      "Upleft  =  -3.0\n",
      "Upright =  12.999999999999998\n",
      "Downright =  0.9999999999999998\n",
      "Downleft =  9.0\n",
      "\n",
      "\n",
      "> Global Frame\n",
      "vgx: 0.21\n",
      "vgy: 0.49\n",
      "wg : 1.00\n"
     ]
    }
   ],
   "source": [
    "import numpy as np\n",
    "\n",
    "# constants\n",
    "r = 0.1   # the radius of the wheel\n",
    "lx = 0.3  # half the length of the robot\n",
    "ly = 0.3  # half the width of the robot\n",
    "\n",
    "# Variables to be changed to control the output\n",
    "# local frame\n",
    "Vx = 0.5\n",
    "Vy = 0.2\n",
    "w = 1\n",
    "# orientation\n",
    "theta_initial = 45\n",
    "#----------------------------------------------\n",
    "\n",
    "# Inverse kinematics coefficient matrix\n",
    "w1 = (1/r) * (Vx-Vy-w*(lx+ly))\n",
    "w2 = (1/r) * (Vx+Vy+w*(lx+ly))\n",
    "w3 = (1/r) * (Vx+Vy-w*(lx+ly))\n",
    "w4 = (1/r) * (Vx-Vy+w*(lx+ly))\n",
    "\n",
    "# global frame\n",
    "theta_rad = np.deg2rad(theta_initial)\n",
    "vgx = Vx * np.cos(theta_rad) - Vy * np.sin(theta_rad)\n",
    "vgy = Vx * np.sin(theta_rad) + Vy * np.cos(theta_rad)\n",
    "wg = w \n",
    "\n",
    "# Printing the results\n",
    "print(\"> Wheels Angular Velocities\")\n",
    "print(f\"Upleft  = \",w1)\n",
    "print(f\"Upright = \",w2)\n",
    "print(f\"Downright = \",w3)\n",
    "print(f\"Downleft = \",w4)\n",
    "print(\"\\n\")\n",
    "print(\"> Global Frame\")\n",
    "print(f\"vgx: {vgx:.2f}\")\n",
    "print(f\"vgy: {vgy:.2f}\")\n",
    "print(f\"wg : {wg:.2f}\")\n"
   ]
  }
 ],
 "metadata": {
  "kernelspec": {
   "display_name": "Python 3",
   "language": "python",
   "name": "python3"
  },
  "language_info": {
   "codemirror_mode": {
    "name": "ipython",
    "version": 3
   },
   "file_extension": ".py",
   "mimetype": "text/x-python",
   "name": "python",
   "nbconvert_exporter": "python",
   "pygments_lexer": "ipython3",
   "version": "3.12.4"
  }
 },
 "nbformat": 4,
 "nbformat_minor": 2
}
