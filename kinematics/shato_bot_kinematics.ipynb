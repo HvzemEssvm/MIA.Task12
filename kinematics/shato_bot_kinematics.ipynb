{
 "cells": [
  {
   "cell_type": "markdown",
   "metadata": {},
   "source": [
    "## kinematics model for Shato bot\n",
    "\n",
    "### this model is based on that research [link](https://research.ijcaonline.org/volume113/number3/pxc3901586.pdf) \n"
   ]
  },
  {
   "cell_type": "code",
   "execution_count": 3,
   "metadata": {},
   "outputs": [
    {
     "name": "stdout",
     "output_type": "stream",
     "text": [
      "> local frame\n",
      "vx: 1.00\n",
      "vy: 0.00\n",
      "w : 0.00\n",
      "> global frame\n",
      "vgx: 1.00\n",
      "vgy: 0.00\n",
      "wg : 0.00\n"
     ]
    }
   ],
   "source": [
    "# for shato with 4 omni wheels\n",
    "import numpy as np\n",
    "# constants\n",
    "r = 0.1   # the radius of the wheel\n",
    "lx = 0.3  # half the length of the robot\n",
    "ly = 0.3  # half the width of the robot\n",
    "\n",
    "# angular velocity of each wheel\n",
    "w1 = 10\n",
    "w2 = 10\n",
    "w3 = 10\n",
    "w4 = 10\n",
    "\n",
    "# Local frame\n",
    "vx = (r/4) * (w1 + w2 + w3 + w4)\n",
    "vy = (r/4) * (-w1 + w2 + w3 -w4)\n",
    "w  = (r/(4*(lx + ly))) * (-w1 + w2 + w3 - w4)\n",
    "\n",
    "# oriantation\n",
    "theta = 0\n",
    "theta_rad = np.rad2deg(theta)\n",
    "\n",
    "# global frame\n",
    "vgx = vx * np.cos(theta_rad) - vy * np.sin(theta_rad)\n",
    "vgy = vx * np.sin(theta_rad) + vy * np.cos(theta_rad)\n",
    "wg = w\n",
    "\n",
    "\n",
    "print(\"> local frame\")\n",
    "print(f\"vx: {vx:.2f}\")\n",
    "print(f\"vy: {vy:.2f}\")\n",
    "print(f\"w : {w:.2f}\")\n",
    "# print(\"\\n\")\n",
    "print(\"> global frame\")\n",
    "print(f\"vgx: {vgx:.2f}\")\n",
    "print(f\"vgy: {vgy:.2f}\")\n",
    "print(f\"wg : {wg:.2f}\")"
   ]
  }
 ],
 "metadata": {
  "kernelspec": {
   "display_name": "Python 3",
   "language": "python",
   "name": "python3"
  },
  "language_info": {
   "codemirror_mode": {
    "name": "ipython",
    "version": 3
   },
   "file_extension": ".py",
   "mimetype": "text/x-python",
   "name": "python",
   "nbconvert_exporter": "python",
   "pygments_lexer": "ipython3",
   "version": "3.12.4"
  }
 },
 "nbformat": 4,
 "nbformat_minor": 2
}
